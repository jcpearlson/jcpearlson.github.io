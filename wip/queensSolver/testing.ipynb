{
 "cells": [
  {
   "cell_type": "code",
   "execution_count": 15,
   "metadata": {},
   "outputs": [],
   "source": [
    "import pyautogui\n",
    "# (550, 730, 409, 382)\n",
    "# img = pyautogui.screenshot(region=(550, 730, 409, 382))\n",
    "# img.save('imgs/testing/image_test.png')\n"
   ]
  },
  {
   "cell_type": "code",
   "execution_count": 16,
   "metadata": {},
   "outputs": [],
   "source": [
    "#imports\n",
    "from re import template\n",
    "import cv2\n",
    "import pyautogui\n",
    "from time import sleep\n",
    "\n",
    "def load_test_image():\n",
    "    return cv2.imread('imgs/5.png')"
   ]
  },
  {
   "cell_type": "code",
   "execution_count": 17,
   "metadata": {},
   "outputs": [],
   "source": [
    "test_image = load_test_image()\n",
    "# cv2.imshow('vision',test_image)\n",
    "# cv2.waitKey(100000)\n",
    "# Drawing a line\n",
    "line = cv2.line(test_image, (test_image.shape[1]//2, test_image.shape[0]//2), (0,0) , (0,255,0), thickness=2)\n",
    "# cv2.imshow(\"line\", line)\n",
    "# cv2.waitKey(20)\n"
   ]
  },
  {
   "cell_type": "code",
   "execution_count": 18,
   "metadata": {},
   "outputs": [
    {
     "data": {
      "text/plain": [
       "-1"
      ]
     },
     "execution_count": 18,
     "metadata": {},
     "output_type": "execute_result"
    }
   ],
   "source": [
    "# Drawing other shapes\n",
    "circle = cv2.circle(line, (line.shape[1]//2, line.shape[0]//2), 50, (0,0,255), thickness=2)\n",
    "rect = cv2.rectangle(circle, (10,10), (circle.shape[1]//2, circle.shape[0]//2), (255,0,0), thickness=2)\n",
    "text = cv2.putText(rect, \"Hi\", (rect.shape[1]//2, rect.shape[0]//2), cv2.FONT_HERSHEY_SIMPLEX, 1, (255,255,255), thickness=2)\n",
    "\n",
    "cv2.imshow(\"all shapes\", text)\n",
    "cv2.waitKey(20)\n",
    "sleep(10)\n",
    "cv2.destroyWindow('all shapes')\n",
    "cv2.waitKey(1)\n",
    "\n"
   ]
  },
  {
   "cell_type": "code",
   "execution_count": 19,
   "metadata": {},
   "outputs": [
    {
     "ename": "KeyboardInterrupt",
     "evalue": "",
     "output_type": "error",
     "traceback": [
      "\u001b[0;31m---------------------------------------------------------------------------\u001b[0m",
      "\u001b[0;31mKeyboardInterrupt\u001b[0m                         Traceback (most recent call last)",
      "\u001b[0;32m<ipython-input-19-2e01cba24936>\u001b[0m in \u001b[0;36m<module>\u001b[0;34m\u001b[0m\n\u001b[1;32m      5\u001b[0m \u001b[0mcv2\u001b[0m\u001b[0;34m.\u001b[0m\u001b[0mimshow\u001b[0m\u001b[0;34m(\u001b[0m\u001b[0;34m\"cropped\"\u001b[0m\u001b[0;34m,\u001b[0m \u001b[0mcropped\u001b[0m\u001b[0;34m)\u001b[0m\u001b[0;34m\u001b[0m\u001b[0;34m\u001b[0m\u001b[0m\n\u001b[1;32m      6\u001b[0m \u001b[0mcv2\u001b[0m\u001b[0;34m.\u001b[0m\u001b[0mwaitKey\u001b[0m\u001b[0;34m(\u001b[0m\u001b[0;36m20\u001b[0m\u001b[0;34m)\u001b[0m\u001b[0;34m\u001b[0m\u001b[0;34m\u001b[0m\u001b[0m\n\u001b[0;32m----> 7\u001b[0;31m \u001b[0msleep\u001b[0m\u001b[0;34m(\u001b[0m\u001b[0;36m10\u001b[0m\u001b[0;34m)\u001b[0m\u001b[0;34m\u001b[0m\u001b[0;34m\u001b[0m\u001b[0m\n\u001b[0m\u001b[1;32m      8\u001b[0m \u001b[0mcv2\u001b[0m\u001b[0;34m.\u001b[0m\u001b[0mdestroyWindow\u001b[0m\u001b[0;34m(\u001b[0m\u001b[0;34m'cropped'\u001b[0m\u001b[0;34m)\u001b[0m\u001b[0;34m\u001b[0m\u001b[0;34m\u001b[0m\u001b[0m\n\u001b[1;32m      9\u001b[0m \u001b[0mcv2\u001b[0m\u001b[0;34m.\u001b[0m\u001b[0mwaitKey\u001b[0m\u001b[0;34m(\u001b[0m\u001b[0;36m1\u001b[0m\u001b[0;34m)\u001b[0m\u001b[0;34m\u001b[0m\u001b[0;34m\u001b[0m\u001b[0m\n",
      "\u001b[0;31mKeyboardInterrupt\u001b[0m: "
     ]
    }
   ],
   "source": [
    "# gray = cv2.cvtColor(test_image, cv2.COLOR_BGR2GRAY)\n",
    "# contours, _ = cv2.findContours(gray, cv2.RETR_TREE, cv2.CHAIN_APPROX_NONE)\n",
    "\n",
    "# cropped = test_image[0:test_image.shape[1]//2, 0:test_image.shape[0]//2]\n",
    "# cv2.imshow(\"cropped\", cropped)\n",
    "# cv2.waitKey(20)\n",
    "# sleep(10)\n",
    "# cv2.destroyWindow('cropped')\n",
    "# cv2.waitKey(1)"
   ]
  },
  {
   "cell_type": "code",
   "execution_count": 8,
   "metadata": {},
   "outputs": [],
   "source": [
    "import cv2\n",
    "import numpy as np\n",
    "\n",
    "# Load and convert the image to grayscale\n",
    "original = cv2.imread('imgs/4.png')\n",
    "gray = cv2.cvtColor(original, cv2.COLOR_BGR2GRAY)\n",
    "\n",
    "# Apply Gaussian blur\n",
    "blurred = cv2.GaussianBlur(gray, (5, 5), 0)\n",
    "\n",
    "# Apply thresholding\n",
    "_, binary = cv2.threshold(blurred, 150, 255, cv2.THRESH_BINARY)\n",
    "\n",
    "# Use morphological operations to close gaps\n",
    "kernel = np.ones((5, 5), np.uint8)\n",
    "binary = cv2.dilate(binary, kernel, iterations=1)\n",
    "binary = cv2.erode(binary, kernel, iterations=1)\n",
    "\n",
    "# Find contours\n",
    "contours, _ = cv2.findContours(binary, cv2.RETR_TREE, cv2.CHAIN_APPROX_SIMPLE)\n",
    "\n",
    "# Sort and get the largest contour\n",
    "contours = sorted(contours, key=cv2.contourArea, reverse=True)\n",
    "largest_contour = contours[1]\n",
    "\n",
    "# Approximate the contour to reduce complexity\n",
    "epsilon = 0.01 * cv2.arcLength(largest_contour, True)\n",
    "approx_contour = cv2.approxPolyDP(largest_contour, epsilon, True)\n",
    "\n",
    "# Draw the approximated contour on the original image\n",
    "cv2.drawContours(original, [approx_contour], -1, (0, 255, 0), 3)\n",
    "\n",
    "# Display the result\n",
    "cv2.imshow(\"Largest Contour\", original)\n",
    "cv2.waitKey(0)\n",
    "cv2.destroyAllWindows()"
   ]
  },
  {
   "cell_type": "code",
   "execution_count": 13,
   "metadata": {},
   "outputs": [
    {
     "name": "stdout",
     "output_type": "stream",
     "text": [
      "[['1', '1', '1', '1', '1', '1', '1', '1', '2', '2'], ['1', '1', '3', '4', '4', '4', '4', '2', '2', '5'], ['1', '3', '3', '3', '4', '4', '2', '2', '5', '5'], ['1', '1', '3', '6', '4', '2', '2', '7', '7', '7'], ['1', '1', '6', '6', '2', '2', '8', '8', '8', '7'], ['1', '1', '6', '2', '2', '8', '8', '8', '8', '7'], ['1', '1', '2', '2', '7', '8', '8', '9', '8', '7'], ['1', '2', '2', '7', '7', '7', '9', '9', '9', '7'], ['2', '2', '10', '10', '7', '7', '7', '9', '7', '7'], ['2', '10', '10', '7', '7', '7', '7', '7', '7', '7']]\n"
     ]
    }
   ],
   "source": [
    "#imports\n",
    "from re import template\n",
    "import cv2\n",
    "import pyautogui\n",
    "from time import sleep\n",
    "original =  cv2.imread('imgs/4.png')\n",
    "\n",
    "\n",
    "gray = cv2.cvtColor(original, cv2.COLOR_BGR2GRAY)\n",
    "\n",
    "contours, _ = cv2.findContours(gray, cv2.RETR_TREE, cv2.CHAIN_APPROX_NONE)\n",
    "contours = sorted(contours, key=cv2.contourArea, reverse=True)\n",
    "\n",
    "# second largest contour is the boundary of the actual game \n",
    "# TODO confirm this with more testing\n",
    "largest_contour = contours[1]\n",
    "x, y, w, h = cv2.boundingRect(contours[1])\n",
    "\n",
    "# crop image down to new just grid\n",
    "grid = original[y:y+h, x:x+w]\n",
    "\n",
    "gray = cv2.cvtColor(grid, cv2.COLOR_BGR2GRAY)\n",
    "# Save the grayscale grid image\n",
    "cv2.imwrite(\"solution/gray-grid.png\", gray)\n",
    "\n",
    "# Find contours again within the cropped grayscale grid\n",
    "contours, _ = cv2.findContours(gray, cv2.RETR_TREE, cv2.CHAIN_APPROX_NONE)\n",
    "# Sort contours by area\n",
    "contours = sorted(contours, key=cv2.contourArea)\n",
    "\n",
    "# Calculate the total number of cells and the grid size\n",
    "total_cells = len(contours) - 2\n",
    "grid_size = int((total_cells)**(.5))\n",
    "\n",
    "if total_cells != grid_size**2:\n",
    "    print(\"Unable to detect full grid! Aborting\")\n",
    "\n",
    "# Calculate the width and height of each cell\n",
    "cell_width = w // grid_size\n",
    "cell_height = h // grid_size\n",
    "\n",
    "# Initialize variables to store colors and board configuration\n",
    "colors = []\n",
    "board = []\n",
    "color_index = 1\n",
    "color_map = {}\n",
    "reverse_color_map = {}\n",
    "padding = 10\n",
    "\n",
    "# Iterate through each cell in the grid to extract colors\n",
    "for i in range(grid_size):\n",
    "    row = []\n",
    "    for j in range(grid_size):\n",
    "        # Calculate cell coordinates with padding\n",
    "        cell_x = j * cell_width\n",
    "        cell_y = i * cell_height\n",
    "        padding = 15\n",
    "        cell = grid[cell_y+padding:cell_y+cell_height-padding, cell_x+padding:cell_x+cell_width-padding]\n",
    "        \n",
    "        # Get the average color of the cell\n",
    "        avg_color = cell.mean(axis=0).mean(axis=0)\n",
    "        avg_color = avg_color.astype(int)\n",
    "        avg_color = tuple(avg_color)\n",
    "        \n",
    "        # Map each unique color to an index\n",
    "        if avg_color not in color_map:\n",
    "            color_map[avg_color] = str(color_index)\n",
    "            reverse_color_map[str(color_index)] = avg_color\n",
    "            color_index += 1\n",
    "        row.append(color_map[avg_color])\n",
    "        \n",
    "    # Append the row to the board configuration\n",
    "    board.append(row)\n",
    "\n",
    "print(board)"
   ]
  },
  {
   "cell_type": "code",
   "execution_count": 14,
   "metadata": {},
   "outputs": [
    {
     "name": "stdout",
     "output_type": "stream",
     "text": [
      "|1,1,1,1,1,1,1,1,2,2|\n",
      "|1,1,3,4,4,4,4,2,2,5|\n",
      "|1,3,3,3,4,4,2,2,5,5|\n",
      "|1,1,3,6,4,2,2,7,7,7|\n",
      "|1,1,6,6,2,2,8,8,8,7|\n",
      "|1,1,6,2,2,8,8,8,8,7|\n",
      "|1,1,2,2,7,8,8,9,8,7|\n",
      "|1,2,2,7,7,7,9,9,9,7|\n",
      "|2,2,10,10,7,7,7,9,7,7|\n",
      "|2,10,10,7,7,7,7,7,7,7|\n"
     ]
    }
   ],
   "source": [
    "print(\"|\" + \"|\\n|\".join([\",\".join(r) for r in board]) + \"|\")"
   ]
  },
  {
   "cell_type": "code",
   "execution_count": null,
   "metadata": {},
   "outputs": [
    {
     "ename": "KeyboardInterrupt",
     "evalue": "",
     "output_type": "error",
     "traceback": [
      "\u001b[0;31m---------------------------------------------------------------------------\u001b[0m",
      "\u001b[0;31mKeyboardInterrupt\u001b[0m                         Traceback (most recent call last)",
      "\u001b[0;32m<ipython-input-6-2220ef2770b2>\u001b[0m in \u001b[0;36m<module>\u001b[0;34m\u001b[0m\n\u001b[1;32m     21\u001b[0m \u001b[0mcv2\u001b[0m\u001b[0;34m.\u001b[0m\u001b[0mimshow\u001b[0m\u001b[0;34m(\u001b[0m\u001b[0;34m'Contours'\u001b[0m\u001b[0;34m,\u001b[0m \u001b[0mimage_with_contours\u001b[0m\u001b[0;34m)\u001b[0m\u001b[0;34m\u001b[0m\u001b[0;34m\u001b[0m\u001b[0m\n\u001b[1;32m     22\u001b[0m \u001b[0mcv2\u001b[0m\u001b[0;34m.\u001b[0m\u001b[0mwaitKey\u001b[0m\u001b[0;34m(\u001b[0m\u001b[0;36m1\u001b[0m\u001b[0;34m)\u001b[0m\u001b[0;34m\u001b[0m\u001b[0;34m\u001b[0m\u001b[0m\n\u001b[0;32m---> 23\u001b[0;31m \u001b[0msleep\u001b[0m\u001b[0;34m(\u001b[0m\u001b[0;36m10\u001b[0m\u001b[0;34m)\u001b[0m\u001b[0;34m\u001b[0m\u001b[0;34m\u001b[0m\u001b[0m\n\u001b[0m\u001b[1;32m     24\u001b[0m \u001b[0mcv2\u001b[0m\u001b[0;34m.\u001b[0m\u001b[0mdestroyAllWindows\u001b[0m\u001b[0;34m(\u001b[0m\u001b[0;34m)\u001b[0m\u001b[0;34m\u001b[0m\u001b[0;34m\u001b[0m\u001b[0m\n\u001b[1;32m     25\u001b[0m \u001b[0mcv2\u001b[0m\u001b[0;34m.\u001b[0m\u001b[0mwaitKey\u001b[0m\u001b[0;34m(\u001b[0m\u001b[0;36m1\u001b[0m\u001b[0;34m)\u001b[0m\u001b[0;34m\u001b[0m\u001b[0;34m\u001b[0m\u001b[0m\n",
      "\u001b[0;31mKeyboardInterrupt\u001b[0m: "
     ]
    }
   ],
   "source": [
    "import cv2\n",
    "\n",
    "# Read the image (replace 'your_image.png' with the path to your image)\n",
    "image = load_test_image()\n",
    "\n",
    "# Convert the image to grayscale\n",
    "gray = cv2.cvtColor(image, cv2.COLOR_BGR2GRAY)\n",
    "\n",
    "# Find the contours\n",
    "_, threshold = cv2.threshold(gray, 127, 255, cv2.THRESH_BINARY)\n",
    "contours, hierarchy = cv2.findContours(threshold, cv2.RETR_TREE, cv2.CHAIN_APPROX_NONE)\n",
    "contours = sorted(contours, key=cv2.contourArea,reverse=True)\n",
    "\n",
    "# Make a copy of the original image\n",
    "image_with_contours = image.copy()\n",
    "\n",
    "# Draw all contours on the copy (use different colors for each contour if needed)\n",
    "cv2.drawContours(image_with_contours, contours[0], -1, (0, 255, 0), 2)  # Green contours with thickness 2\n",
    "\n",
    "# Display the image with contours\n",
    "cv2.imshow('Contours', image_with_contours)\n",
    "cv2.waitKey(1)\n",
    "sleep(10)\n",
    "cv2.destroyAllWindows()\n",
    "cv2.waitKey(1)\n"
   ]
  },
  {
   "cell_type": "code",
   "execution_count": null,
   "metadata": {},
   "outputs": [],
   "source": [
    "def check_board_simple(board:list,transposed_board:list) -> list:\n",
    "    \"\"\"\n",
    "    - Check board for whole row or whole column of just a number\n",
    "    - X out any squares that are no longer possible\n",
    "    - Place a queen on the board if a row and column requirement are perpendicular for the same value\n",
    "\n",
    "    Params:\n",
    "    board - Double array of ints representing queens board\n",
    "    transposed_board - Double array of ints representing queens board but transposed\n",
    "\n",
    "    Returns:\n",
    "    board - Modified with all above requirements\n",
    "    \"\"\"\n",
    "    n = range(len(board))\n",
    "\n",
    "    # indexed (0 -> n-1), first list is row, second is column\n",
    "    full_rows_cols = [([],[]) for i in n]\n",
    "    \n",
    "    for row in n:\n",
    "        # if row contains only one number\n",
    "        _set = set(board[row])\n",
    "        if len(_set) == 1 or ( len(_set) == 2 and None in _set ):\n",
    "            full_rows_cols[int(board[row][0]) - 1][0].append(row)\n",
    "    \n",
    "    # Loop through each column with transposed board\n",
    "    for column in n:\n",
    "        # same as before but for columns of transposed matrix\n",
    "        _set = set(transposed_board[column])\n",
    "        if len(_set) == 1 or ( len(_set) == 2 and None in _set ):\n",
    "            full_rows_cols[int(transposed_board[column][0]) - 1][1].append(column)\n",
    "\n",
    "    # Updates the board state\n",
    "    for i in n:\n",
    "        _tuple = full_rows_cols[i]\n",
    "        if _tuple[0] and _tuple[1]:\n",
    "            # TODO make placeQueen function\n",
    "            # placeQueen()\n",
    "            # TODO never tested this case\n",
    "            print('untested case: place queen')\n",
    "\n",
    "        elif _tuple[0]:\n",
    "             # TODO never tested this case\n",
    "            print('untested case: one row')\n",
    "\n",
    "        elif _tuple[1]:\n",
    "             # TODO never tested this case\n",
    "            print('untested case: one column')\n",
    "    \n",
    "\n",
    "check_board_simple(board,[list(row) for row in zip(*board)])"
   ]
  },
  {
   "cell_type": "code",
   "execution_count": null,
   "metadata": {},
   "outputs": [],
   "source": [
    "from wip.queensSolver.game_board import board\n",
    "\n",
    "board()"
   ]
  },
  {
   "cell_type": "code",
   "execution_count": null,
   "metadata": {},
   "outputs": [],
   "source": []
  }
 ],
 "metadata": {
  "kernelspec": {
   "display_name": "Python 3",
   "language": "python",
   "name": "python3"
  },
  "language_info": {
   "codemirror_mode": {
    "name": "ipython",
    "version": 3
   },
   "file_extension": ".py",
   "mimetype": "text/x-python",
   "name": "python",
   "nbconvert_exporter": "python",
   "pygments_lexer": "ipython3",
   "version": "3.8.3"
  }
 },
 "nbformat": 4,
 "nbformat_minor": 2
}
