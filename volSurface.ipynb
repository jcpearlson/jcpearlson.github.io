{
 "cells": [
  {
   "cell_type": "code",
   "execution_count": 1,
   "metadata": {},
   "outputs": [],
   "source": [
    "# Import Libraries\n",
    "import numpy as np\n",
    "import pandas as pd\n",
    "import yfinance as yf\n",
    "import datetime as dt\n",
    "import matplotlib.pyplot as plt\n"
   ]
  },
  {
   "cell_type": "code",
   "execution_count": 2,
   "metadata": {},
   "outputs": [],
   "source": [
    "def option_chains(ticker):\n",
    "    \"\"\"\n",
    "    \"\"\"\n",
    "    asset = yf.Ticker(ticker)\n",
    "    expirations = asset.options\n",
    "    \n",
    "    chains = pd.DataFrame()\n",
    "    \n",
    "    for expiration in expirations:\n",
    "        # tuple of two dataframes\n",
    "        opt = asset.option_chain(expiration)\n",
    "        \n",
    "        calls = opt.calls\n",
    "        calls['optionType'] = \"call\"\n",
    "        \n",
    "        puts = opt.puts\n",
    "        puts['optionType'] = \"put\"\n",
    "        \n",
    "        chain = pd.concat([calls, puts])\n",
    "        chain['expiration'] = pd.to_datetime(expiration) + pd.DateOffset(hours=23, minutes=59, seconds=59)\n",
    "        \n",
    "        chains = pd.concat([chains, chain])\n",
    "    \n",
    "    chains[\"daysToExpiration\"] = (chains.expiration - dt.datetime.today()).dt.days + 1\n",
    "    \n",
    "    return chains\n"
   ]
  },
  {
   "cell_type": "code",
   "execution_count": 25,
   "metadata": {},
   "outputs": [
    {
     "name": "stdout",
     "output_type": "stream",
     "text": [
      "[Timestamp('2024-08-09 23:59:59'), Timestamp('2024-08-12 23:59:59'), Timestamp('2024-08-13 23:59:59'), Timestamp('2024-08-14 23:59:59'), Timestamp('2024-08-15 23:59:59'), Timestamp('2024-08-16 23:59:59'), Timestamp('2024-08-23 23:59:59'), Timestamp('2024-08-30 23:59:59'), Timestamp('2024-09-06 23:59:59'), Timestamp('2024-09-13 23:59:59'), Timestamp('2024-09-20 23:59:59'), Timestamp('2024-09-30 23:59:59'), Timestamp('2024-10-18 23:59:59'), Timestamp('2024-10-31 23:59:59'), Timestamp('2024-11-15 23:59:59'), Timestamp('2024-11-29 23:59:59'), Timestamp('2024-12-20 23:59:59'), Timestamp('2024-12-31 23:59:59'), Timestamp('2025-01-17 23:59:59'), Timestamp('2025-01-31 23:59:59'), Timestamp('2025-03-21 23:59:59'), Timestamp('2025-03-31 23:59:59'), Timestamp('2025-04-17 23:59:59'), Timestamp('2025-06-20 23:59:59'), Timestamp('2025-06-30 23:59:59'), Timestamp('2025-08-15 23:59:59'), Timestamp('2025-09-19 23:59:59'), Timestamp('2025-12-19 23:59:59'), Timestamp('2026-01-16 23:59:59'), Timestamp('2026-06-18 23:59:59'), Timestamp('2026-12-18 23:59:59')]\n"
     ]
    }
   ],
   "source": [
    "ticker = \"SPY\"\n",
    "\n",
    "spy_options_chain = option_chains(ticker)\n",
    "calls = spy_options_chain[spy_options_chain[\"optionType\"]==\"call\"]\n",
    "\n",
    "expirations = set(calls.expiration)\n",
    "print(sorted(expirations))"
   ]
  },
  {
   "cell_type": "code",
   "execution_count": 58,
   "metadata": {},
   "outputs": [
    {
     "name": "stdout",
     "output_type": "stream",
     "text": [
      "Empty DataFrame\n",
      "Columns: [contractSymbol, lastTradeDate, strike, lastPrice, bid, ask, change, percentChange, volume, openInterest, impliedVolatility, inTheMoney, contractSize, currency, optionType, expiration, daysToExpiration]\n",
      "Index: []\n"
     ]
    },
    {
     "data": {
      "text/plain": [
       "[]"
      ]
     },
     "execution_count": 58,
     "metadata": {},
     "output_type": "execute_result"
    },
    {
     "data": {
      "image/png": "[encoded data removed]",
      "text/plain": [
       "<Figure size 432x288 with 1 Axes>"
      ]
     },
     "metadata": {
      "needs_background": "light"
     },
     "output_type": "display_data"
    }
   ],
   "source": [
    "expiration_date = '2024-08-09 23:59:59'\n",
    "oneDTE_calls = calls[calls['expiration'] == expiration_date]\n",
    "\n",
    "# check to see if there are any cases of extreme outliers in implied vol\n",
    "print(oneDTE_calls[oneDTE_calls[\"impliedVolatility\"] < .1])\n",
    "\n",
    "current_ask_price = yf.Ticker(ticker).info['ask']\n",
    "\n",
    "\n",
    "#get \n",
    "ax = oneDTE_calls[['strike','impliedVolatility']].set_index('strike').plot(title=f\"Implied vol skew of {ticker} on {expiration_date}\")\n",
    "\n",
    "#add in vertical line for previous market close price\n",
    "ax.axvline(x=current_ask_price, color='red', linestyle='--', linewidth=2,)\n",
    "ax.text(current_ask_price+5, ax.get_ylim()[1]*0.6, f'Current Ask: {current_ask_price}', \n",
    "        rotation=90, verticalalignment='center', horizontalalignment='left', color='red')\n",
    "ax.plot()\n"
   ]
  },
  {
   "cell_type": "code",
   "execution_count": 57,
   "metadata": {},
   "outputs": [
    {
     "data": {
      "text/plain": [
       "{'longBusinessSummary': 'The Trust seeks to achieve its investment objective by holding a portfolio of the common stocks that are included in the index (the “Portfolio”), with the weight of each stock in the Portfolio substantially corresponding to the weight of such stock in the index.',\n",
       " 'maxAge': 86400,\n",
       " 'priceHint': 2,\n",
       " 'previousClose': 518.66,\n",
       " 'open': 523.91,\n",
       " 'dayLow': 521.84,\n",
       " 'dayHigh': 531.29,\n",
       " 'regularMarketPreviousClose': 518.66,\n",
       " 'regularMarketOpen': 523.91,\n",
       " 'regularMarketDayLow': 521.84,\n",
       " 'regularMarketDayHigh': 531.29,\n",
       " 'trailingPE': 26.731218,\n",
       " 'volume': 61815533,\n",
       " 'regularMarketVolume': 61815533,\n",
       " 'averageVolume': 51658004,\n",
       " 'averageVolume10days': 72900640,\n",
       " 'averageDailyVolume10Day': 72900640,\n",
       " 'bid': 531.51,\n",
       " 'ask': 531.55,\n",
       " 'bidSize': 900,\n",
       " 'askSize': 1100,\n",
       " 'yield': 0.0124,\n",
       " 'totalAssets': 562499813376,\n",
       " 'fiftyTwoWeekLow': 409.21,\n",
       " 'fiftyTwoWeekHigh': 565.16,\n",
       " 'fiftyDayAverage': 543.0946,\n",
       " 'twoHundredDayAverage': 501.34915,\n",
       " 'trailingAnnualDividendRate': 5.662,\n",
       " 'trailingAnnualDividendYield': 0.0109165935,\n",
       " 'navPrice': 518.4803,\n",
       " 'currency': 'USD',\n",
       " 'category': 'Large Blend',\n",
       " 'ytdReturn': 0.098153494,\n",
       " 'beta3Year': 1.0,\n",
       " 'fundFamily': 'SPDR State Street Global Advisors',\n",
       " 'fundInceptionDate': 727660800,\n",
       " 'legalType': 'Exchange Traded Fund',\n",
       " 'threeYearAverageReturn': 0.070113204,\n",
       " 'fiveYearAverageReturn': 0.1428912,\n",
       " 'exchange': 'PCX',\n",
       " 'quoteType': 'ETF',\n",
       " 'symbol': 'SPY',\n",
       " 'underlyingSymbol': 'SPY',\n",
       " 'shortName': 'SPDR S&P 500',\n",
       " 'longName': 'SPDR S&P 500 ETF Trust',\n",
       " 'firstTradeDateEpochUtc': 728317800,\n",
       " 'timeZoneFullName': 'America/New_York',\n",
       " 'timeZoneShortName': 'EDT',\n",
       " 'uuid': 'e97de790-7e95-3762-8917-c59fcab3735e',\n",
       " 'messageBoardId': 'finmb_6160262',\n",
       " 'gmtOffSetMilliseconds': -14400000,\n",
       " 'trailingPegRatio': None}"
      ]
     },
     "execution_count": 57,
     "metadata": {},
     "output_type": "execute_result"
    }
   ],
   "source": [
    "yf.Ticker(ticker).info"
   ]
  },
  {
   "cell_type": "code",
   "execution_count": null,
   "metadata": {},
   "outputs": [],
   "source": []
  }
 ],
 "metadata": {
  "kernelspec": {
   "display_name": "Python 3",
   "language": "python",
   "name": "python3"
  },
  "language_info": {
   "codemirror_mode": {
    "name": "ipython",
    "version": 3
   },
   "file_extension": ".py",
   "mimetype": "text/x-python",
   "name": "python",
   "nbconvert_exporter": "python",
   "pygments_lexer": "ipython3",
   "version": "3.8.3"
  }
 },
 "nbformat": 4,
 "nbformat_minor": 2
}
